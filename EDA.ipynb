{
 "cells": [
  {
   "cell_type": "code",
   "execution_count": 1,
   "id": "f8a05ab0",
   "metadata": {},
   "outputs": [],
   "source": [
    "# %matplotlib notebook\n",
    "\n",
    "import pandas as pd\n",
    "import numpy as np\n",
    "import matplotlib.pyplot as plt\n",
    "from census import Census\n",
    "import requests\n",
    "\n",
    "# Access cleaned housing data (using Power Query in Excel)\n",
    "\n",
    "metro_hv_df = pd.read_csv(\"Data/Metro_zhvi_uc_sfr_tier_0.33_0.67_sm_sa_month_modified.csv\")\n",
    "metro_inventory_df = pd.read_csv(\"Data/Metro_invt_fs_uc_sfr_sm_month_modified.csv\")\n",
    "zipcode_hv_df = pd.read_csv(\"Data/Zip_zhvi_uc_sfr_tier_0.33_0.67_sm_sa_month_modified.csv\")\n",
    "census_df = pd.read_csv(\"Data/Census/all_census_data_zipcode.csv\")\n",
    "\n",
    "# Merge house value file with census file\n",
    "hv_census_df = pd.merge(zipcode_hv_df, census_df, how='outer', on='Zipcode_Year')\n",
    "\n",
    "# Drop zipcodes that don't have exist in one of the files\n",
    "hv_census_df = hv_census_df.dropna()\n",
    "\n",
    "# Adding affordability column (how many years of household income would it take to buy a house at the average house price)\n",
    "hv_census_df[\"Affordability\"] = hv_census_df[\"Average House Price\"] / hv_census_df[\"Household Income\"]\n",
    "\n",
    "hv_census_df = hv_census_df.drop(columns=['Zipcode_y', 'Year_y'])\n",
    "hv_census_df = hv_census_df.rename(columns={\"Zipcode_x\": \"Zipcode\", \"Year_x\": \"Year\"})\n",
    "hv_census_df[\"Zipcode\"] = hv_census_df[\"Zipcode\"].astype(int)\n",
    "hv_census_df[\"Year\"] = hv_census_df[\"Year\"].astype(int)\n",
    "hv_census_df[\"Population\"] = hv_census_df[\"Population\"].astype(int)\n",
    "hv_census_df[\"Household Income\"] = hv_census_df[\"Household Income\"].astype(int)\n",
    "hv_census_df[\"Per Capita Income\"] = hv_census_df[\"Per Capita Income\"].astype(int)\n",
    "hv_census_df[\"Poverty Count\"] = hv_census_df[\"Poverty Count\"].astype(int)\n",
    "hv_census_df[\"Average House Price\"] = hv_census_df[\"Average House Price\"].round(2)\n",
    "hv_census_df[\"Affordability\"] = hv_census_df[\"Affordability\"].round(2)"
   ]
  },
  {
   "cell_type": "code",
   "execution_count": 2,
   "id": "3101096d",
   "metadata": {},
   "outputs": [
    {
     "data": {
      "text/html": [
       "<div>\n",
       "<style scoped>\n",
       "    .dataframe tbody tr th:only-of-type {\n",
       "        vertical-align: middle;\n",
       "    }\n",
       "\n",
       "    .dataframe tbody tr th {\n",
       "        vertical-align: top;\n",
       "    }\n",
       "\n",
       "    .dataframe thead th {\n",
       "        text-align: right;\n",
       "    }\n",
       "</style>\n",
       "<table border=\"1\" class=\"dataframe\">\n",
       "  <thead>\n",
       "    <tr style=\"text-align: right;\">\n",
       "      <th></th>\n",
       "      <th>Year</th>\n",
       "      <th>Average House Price</th>\n",
       "    </tr>\n",
       "  </thead>\n",
       "  <tbody>\n",
       "    <tr>\n",
       "      <th>0</th>\n",
       "      <td>2013</td>\n",
       "      <td>150641.2500</td>\n",
       "    </tr>\n",
       "    <tr>\n",
       "      <th>1</th>\n",
       "      <td>2014</td>\n",
       "      <td>169061.1667</td>\n",
       "    </tr>\n",
       "    <tr>\n",
       "      <th>2</th>\n",
       "      <td>2015</td>\n",
       "      <td>179508.3333</td>\n",
       "    </tr>\n",
       "    <tr>\n",
       "      <th>3</th>\n",
       "      <td>2016</td>\n",
       "      <td>191574.5000</td>\n",
       "    </tr>\n",
       "    <tr>\n",
       "      <th>4</th>\n",
       "      <td>2017</td>\n",
       "      <td>205885.2500</td>\n",
       "    </tr>\n",
       "    <tr>\n",
       "      <th>5</th>\n",
       "      <td>2018</td>\n",
       "      <td>224960.7500</td>\n",
       "    </tr>\n",
       "    <tr>\n",
       "      <th>6</th>\n",
       "      <td>2019</td>\n",
       "      <td>239677.0833</td>\n",
       "    </tr>\n",
       "    <tr>\n",
       "      <th>7</th>\n",
       "      <td>2020</td>\n",
       "      <td>254027.1667</td>\n",
       "    </tr>\n",
       "    <tr>\n",
       "      <th>8</th>\n",
       "      <td>2021</td>\n",
       "      <td>281973.3333</td>\n",
       "    </tr>\n",
       "  </tbody>\n",
       "</table>\n",
       "</div>"
      ],
      "text/plain": [
       "   Year  Average House Price\n",
       "0  2013          150641.2500\n",
       "1  2014          169061.1667\n",
       "2  2015          179508.3333\n",
       "3  2016          191574.5000\n",
       "4  2017          205885.2500\n",
       "5  2018          224960.7500\n",
       "6  2019          239677.0833\n",
       "7  2020          254027.1667\n",
       "8  2021          281973.3333"
      ]
     },
     "execution_count": 2,
     "metadata": {},
     "output_type": "execute_result"
    }
   ],
   "source": [
    "metro_hv_df"
   ]
  },
  {
   "cell_type": "code",
   "execution_count": 8,
   "id": "63d58db5",
   "metadata": {},
   "outputs": [
    {
     "data": {
      "text/html": [
       "<div>\n",
       "<style scoped>\n",
       "    .dataframe tbody tr th:only-of-type {\n",
       "        vertical-align: middle;\n",
       "    }\n",
       "\n",
       "    .dataframe tbody tr th {\n",
       "        vertical-align: top;\n",
       "    }\n",
       "\n",
       "    .dataframe thead th {\n",
       "        text-align: right;\n",
       "    }\n",
       "</style>\n",
       "<table border=\"1\" class=\"dataframe\">\n",
       "  <thead>\n",
       "    <tr style=\"text-align: right;\">\n",
       "      <th></th>\n",
       "      <th>Month</th>\n",
       "      <th>Inventory Volume</th>\n",
       "      <th>Month Year</th>\n",
       "      <th>Month.1</th>\n",
       "      <th>Year</th>\n",
       "      <th>YearMonth</th>\n",
       "    </tr>\n",
       "  </thead>\n",
       "  <tbody>\n",
       "    <tr>\n",
       "      <th>0</th>\n",
       "      <td>1/31/2018</td>\n",
       "      <td>27491</td>\n",
       "      <td>Jan 2018</td>\n",
       "      <td>1</td>\n",
       "      <td>2018</td>\n",
       "      <td>201801</td>\n",
       "    </tr>\n",
       "    <tr>\n",
       "      <th>1</th>\n",
       "      <td>2/28/2018</td>\n",
       "      <td>26389</td>\n",
       "      <td>Feb 2018</td>\n",
       "      <td>2</td>\n",
       "      <td>2018</td>\n",
       "      <td>201802</td>\n",
       "    </tr>\n",
       "    <tr>\n",
       "      <th>2</th>\n",
       "      <td>3/31/2018</td>\n",
       "      <td>27430</td>\n",
       "      <td>Mar 2018</td>\n",
       "      <td>3</td>\n",
       "      <td>2018</td>\n",
       "      <td>201803</td>\n",
       "    </tr>\n",
       "    <tr>\n",
       "      <th>3</th>\n",
       "      <td>4/30/2018</td>\n",
       "      <td>28736</td>\n",
       "      <td>Apr 2018</td>\n",
       "      <td>4</td>\n",
       "      <td>2018</td>\n",
       "      <td>201804</td>\n",
       "    </tr>\n",
       "    <tr>\n",
       "      <th>4</th>\n",
       "      <td>5/31/2018</td>\n",
       "      <td>30231</td>\n",
       "      <td>May 2018</td>\n",
       "      <td>5</td>\n",
       "      <td>2018</td>\n",
       "      <td>201805</td>\n",
       "    </tr>\n",
       "  </tbody>\n",
       "</table>\n",
       "</div>"
      ],
      "text/plain": [
       "       Month  Inventory Volume Month Year  Month.1  Year  YearMonth\n",
       "0  1/31/2018             27491   Jan 2018        1  2018     201801\n",
       "1  2/28/2018             26389   Feb 2018        2  2018     201802\n",
       "2  3/31/2018             27430   Mar 2018        3  2018     201803\n",
       "3  4/30/2018             28736   Apr 2018        4  2018     201804\n",
       "4  5/31/2018             30231   May 2018        5  2018     201805"
      ]
     },
     "execution_count": 8,
     "metadata": {},
     "output_type": "execute_result"
    }
   ],
   "source": [
    "metro_inventory_df.head()"
   ]
  },
  {
   "cell_type": "code",
   "execution_count": 9,
   "id": "fcd2f329",
   "metadata": {},
   "outputs": [],
   "source": [
    "# zipcode_hv_df"
   ]
  },
  {
   "cell_type": "code",
   "execution_count": 5,
   "id": "397581a8",
   "metadata": {},
   "outputs": [],
   "source": [
    "# # Drop everything except monthly numbers\n",
    "# # del metro_inventory_df.iloc[0:4]\n",
    "# # del metro_inventory_df['SizeRank']\n",
    "# just_dates = metro_inventory_df.drop(metro_inventory_df.iloc[:,0:5], inplace = False, axis =1)\n",
    "# just_dates"
   ]
  },
  {
   "cell_type": "code",
   "execution_count": 6,
   "id": "5493f6d0",
   "metadata": {},
   "outputs": [],
   "source": [
    "# # Months list\n",
    "# date = just_dates.iloc[0,0:42].index.values\n",
    "# date\n",
    "# listings = just_dates.iloc[0,0:42].values\n",
    "\n",
    "# months2 = []\n",
    "\n",
    "# for x in date:\n",
    "#     my_date = datetime.strptime(x, \"%m/%d/%Y\")\n",
    "#     my_date = my_date.strftime(\"%b\") +\" \"+ str(my_date.year)\n",
    "#     months2.append(my_date)\n",
    "# months2"
   ]
  },
  {
   "cell_type": "code",
   "execution_count": 17,
   "id": "9bc417df",
   "metadata": {},
   "outputs": [
    {
     "data": {
      "text/html": [
       "<div>\n",
       "<style scoped>\n",
       "    .dataframe tbody tr th:only-of-type {\n",
       "        vertical-align: middle;\n",
       "    }\n",
       "\n",
       "    .dataframe tbody tr th {\n",
       "        vertical-align: top;\n",
       "    }\n",
       "\n",
       "    .dataframe thead th {\n",
       "        text-align: right;\n",
       "    }\n",
       "</style>\n",
       "<table border=\"1\" class=\"dataframe\">\n",
       "  <thead>\n",
       "    <tr style=\"text-align: right;\">\n",
       "      <th></th>\n",
       "      <th>Inventory Volume</th>\n",
       "      <th>Month Year</th>\n",
       "    </tr>\n",
       "  </thead>\n",
       "  <tbody>\n",
       "    <tr>\n",
       "      <th>0</th>\n",
       "      <td>27491</td>\n",
       "      <td>Jan 2018</td>\n",
       "    </tr>\n",
       "    <tr>\n",
       "      <th>1</th>\n",
       "      <td>26389</td>\n",
       "      <td>Feb 2018</td>\n",
       "    </tr>\n",
       "    <tr>\n",
       "      <th>2</th>\n",
       "      <td>27430</td>\n",
       "      <td>Mar 2018</td>\n",
       "    </tr>\n",
       "    <tr>\n",
       "      <th>3</th>\n",
       "      <td>28736</td>\n",
       "      <td>Apr 2018</td>\n",
       "    </tr>\n",
       "    <tr>\n",
       "      <th>4</th>\n",
       "      <td>30231</td>\n",
       "      <td>May 2018</td>\n",
       "    </tr>\n",
       "  </tbody>\n",
       "</table>\n",
       "</div>"
      ],
      "text/plain": [
       "   Inventory Volume Month Year\n",
       "0             27491   Jan 2018\n",
       "1             26389   Feb 2018\n",
       "2             27430   Mar 2018\n",
       "3             28736   Apr 2018\n",
       "4             30231   May 2018"
      ]
     },
     "execution_count": 17,
     "metadata": {},
     "output_type": "execute_result"
    }
   ],
   "source": [
    "# new = old.filter(['A','B','D'], axis=1)\n",
    "inv_by_mo_df = metro_inventory_df.filter(['Inventory Volume','Month Year'])\n",
    "inv_by_mo_df.head()"
   ]
  },
  {
   "cell_type": "code",
   "execution_count": 10,
   "id": "6174af3a",
   "metadata": {},
   "outputs": [],
   "source": [
    "# df = pd.DataFrame({\"Month\":months2,\"Listings\":listings})\n",
    "# df"
   ]
  },
  {
   "cell_type": "code",
   "execution_count": 18,
   "id": "e90500e2",
   "metadata": {
    "scrolled": false
   },
   "outputs": [
    {
     "data": {
      "text/plain": [
       "<AxesSubplot:xlabel='Month Year'>"
      ]
     },
     "execution_count": 18,
     "metadata": {},
     "output_type": "execute_result"
    },
    {
     "data": {
      "image/png": "[encoded data removed]",
      "text/plain": [
       "<Figure size 2160x720 with 1 Axes>"
      ]
     },
     "metadata": {
      "needs_background": "light"
     },
     "output_type": "display_data"
    }
   ],
   "source": [
    "ax = inv_by_mo_df.plot(x='Month Year',y='Inventory Volume',figsize=(30,10))\n",
    "ax"
   ]
  },
  {
   "cell_type": "code",
   "execution_count": null,
   "id": "d1057059",
   "metadata": {},
   "outputs": [],
   "source": [
    "ax.xaxis.set_major_locator(mdates.MonthLocator(interval=1))"
   ]
  },
  {
   "cell_type": "code",
   "execution_count": null,
   "id": "681e9ad2",
   "metadata": {
    "scrolled": false
   },
   "outputs": [],
   "source": [
    "# # Line chart for Home inventory by month\n",
    "\n",
    "# # listings.values\n",
    "\n",
    "# fig, ax = plt.subplots()\n",
    "# pd.plot(months2, listings, figsize = (30,10))\n",
    "\n",
    "# # Plot it\n",
    "# # mo_avg_listings = plt.plot(months2, listings, color=\"blue\", label=\"World Average\")\n",
    "# plt.xticks(rotation=90)\n",
    "\n",
    "# # # mo_avg_listings = plt.plot(metro_inventory_df, color=\"blue\", label=\"World Average\" )\n",
    "# # # plt.savefig(\"image.png\")\n",
    "# # # fig = plt.figure()\n",
    "# # # fig.set_size_inches(8, 16)\n",
    "# # # plt.show()\n",
    "# # plt.gcf().subplots_adjust(bottom=0.25)\n",
    "\n",
    "# # fig = plt.figure(figsize=(10,50))\n",
    "# # ax = fig.add_subplot(111)\n",
    "# # ax.plot(months2)\n",
    "# # ax.set_yticks(listings)\n",
    "# # labels = ax.set_yticklabels(listings)\n",
    "# fig.subplots_adjust(bottom=spacing)\n",
    "# plt.show()\n"
   ]
  },
  {
   "cell_type": "code",
   "execution_count": null,
   "id": "ff70aa0c",
   "metadata": {},
   "outputs": [],
   "source": [
    "# # months = []\n",
    "# # years = []\n",
    "# labels = []\n",
    "# month_mapper = {1: 'January', 2: 'February', 3: 'March', 4: 'April', 5: 'May', 6:'June', 7:'July', 8:'August', 9: 'September', 10: 'October', 11: 'November', 12: 'December'}\n",
    "# for x in date:\n",
    "#     month = x.split(sep=\"/\")[0]\n",
    "#     year = x.split(sep=\"/\")[2]\n",
    "    \n",
    "# #     years.append(x.split(sep=\"/\")[2])\n",
    "# #     months.append(x.split(sep=\"/\")[0])\n",
    "#     labels.append(str(month) + \" - \" + str(year))\n",
    "    \n",
    "# labels"
   ]
  },
  {
   "cell_type": "code",
   "execution_count": null,
   "id": "6606c215",
   "metadata": {},
   "outputs": [],
   "source": [
    "listings.index.values"
   ]
  },
  {
   "cell_type": "code",
   "execution_count": null,
   "id": "8efb7da6",
   "metadata": {},
   "outputs": [],
   "source": [
    "listings"
   ]
  },
  {
   "cell_type": "code",
   "execution_count": null,
   "id": "d7bd3a2c",
   "metadata": {},
   "outputs": [],
   "source": []
  },
  {
   "cell_type": "code",
   "execution_count": null,
   "id": "cafa4481",
   "metadata": {},
   "outputs": [],
   "source": []
  },
  {
   "cell_type": "code",
   "execution_count": null,
   "id": "de022ad7",
   "metadata": {},
   "outputs": [],
   "source": []
  }
 ],
 "metadata": {
  "kernelspec": {
   "display_name": "Python 3",
   "language": "python",
   "name": "python3"
  },
  "language_info": {
   "codemirror_mode": {
    "name": "ipython",
    "version": 3
   },
   "file_extension": ".py",
   "mimetype": "text/x-python",
   "name": "python",
   "nbconvert_exporter": "python",
   "pygments_lexer": "ipython3",
   "version": "3.8.8"
  }
 },
 "nbformat": 4,
 "nbformat_minor": 5
}
